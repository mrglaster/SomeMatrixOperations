{
  "nbformat": 4,
  "nbformat_minor": 0,
  "metadata": {
    "colab": {
      "provenance": [],
      "collapsed_sections": []
    },
    "kernelspec": {
      "name": "python3",
      "display_name": "Python 3"
    },
    "language_info": {
      "name": "python"
    }
  },
  "cells": [
    {
      "cell_type": "code",
      "execution_count": null,
      "metadata": {
        "id": "moZzs_X2DgCA",
        "colab": {
          "base_uri": "https://localhost:8080/",
          "height": 52
        },
        "outputId": "64ef4163-c18b-4231-bd0b-6477fa9676e3"
      },
      "outputs": [
        {
          "output_type": "execute_result",
          "data": {
            "text/plain": [
              "'\\nНабор функций для решения некоторых задач по математике II семестра группы ПИ14121 ФБКИ ИГУ\\nРазработчики:\\n    Приставка Егор\\n    Нечаев Вадим\\nЛицензия на использование: WTFPL\\n'"
            ],
            "application/vnd.google.colaboratory.intrinsic+json": {
              "type": "string"
            }
          },
          "metadata": {},
          "execution_count": 1
        }
      ],
      "source": [
        "\"\"\"\n",
        "Набор функций для решения некоторых задач по математике II семестра группы ПИ14121 ФБКИ ИГУ\n",
        "Разработчики:\n",
        "    Приставка Егор\n",
        "    Нечаев Вадим\n",
        "Лицензия на использование: WTFPL\n",
        "\"\"\""
      ]
    },
    {
      "cell_type": "code",
      "source": [
        "\"\"\"\n",
        "Парочка матриц для тестирования:\n",
        "\n",
        "X = [[12,7,3],\n",
        "    [4 ,5,6],\n",
        "    [7 ,8,9]]\n",
        "\n",
        "Y = [[5,8,1,2],\n",
        "    [6,7,3,0],\n",
        "    [4,5,9,2]]    \n",
        "\n",
        "\n",
        "Z = [\n",
        "      [2, 3, 1], \n",
        "      [2, 2, 2],\n",
        "      [3, 1, 5]\n",
        "    ]\n",
        "\n",
        "\"\"\""
      ],
      "metadata": {
        "id": "UXGqRRscDwE7",
        "outputId": "4924466d-c922-44e7-df2b-953f5d3ca2b1",
        "colab": {
          "base_uri": "https://localhost:8080/",
          "height": 52
        }
      },
      "execution_count": null,
      "outputs": [
        {
          "output_type": "execute_result",
          "data": {
            "text/plain": [
              "'\\nПарочка матриц для тестирования:\\n\\nX = [[12,7,3],\\n    [4 ,5,6],\\n    [7 ,8,9]]\\n\\nY = [[5,8,1,2],\\n    [6,7,3,0],\\n    [4,5,9,2]]    \\n\\n\\nZ = [\\n      [2, 3, 1], \\n      [2, 2, 2],\\n      [3, 1, 5]\\n    ]\\n\\n'"
            ],
            "application/vnd.google.colaboratory.intrinsic+json": {
              "type": "string"
            }
          },
          "metadata": {},
          "execution_count": 16
        }
      ]
    },
    {
      "cell_type": "code",
      "source": [
        "import numpy as np\n",
        "import sys"
      ],
      "metadata": {
        "id": "AyIeeTezD19s"
      },
      "execution_count": null,
      "outputs": []
    },
    {
      "cell_type": "code",
      "source": [
        "\n",
        "def inverse_matrix(matrix_origin):\n",
        "    \"\"\"\n",
        "    Функция получает на вход матрицу, затем добавляет к ней единичную матрицу,\n",
        "    проводит элементарные преобразования по строкам с первоначальной, добиваясь получения слева единичной матрицы.\n",
        "    В этом случае справа окажется матрица, которая является обратной к заданнй первоначально\n",
        "    \"\"\"\n",
        "    # Склеиваем 2 матрицы: слева - первоначальная, справа - единичная\n",
        "    n = matrix_origin.shape[0]\n",
        "    m = np.hstack((matrix_origin, np.eye(n)))\n",
        "    for nrow, row in enumerate(m):\n",
        "        # nrow равен номеру строки\n",
        "        # row содержит саму строку матрицы\n",
        "        divider = row[nrow] # диагональный элемент\n",
        "        # делим на диагональный элемент:\n",
        "        row /= divider\n",
        "        # теперь вычитаем приведённую строку из всех нижележащих строк:\n",
        "        for lower_row in m[nrow +1:]:\n",
        "            factor = lower_row[nrow] # элемент строки в колонке nrow\n",
        "            lower_row -= factor *row # вычитаем, чтобы получить ноль в колонке nrow\n",
        "    # обратный ход:\n",
        "    for k in range(n - 1, 0, -1):\n",
        "        for row_ in range(k - 1, -1, -1):\n",
        "            if m[row_, k]:\n",
        "                # 1) Все элементы выше главной диагонали делаем равными нулю\n",
        "                m[row_, :] -= m[k, :] * m[row_, k]\n",
        "    return m[:, n:].copy()\n"
      ],
      "metadata": {
        "id": "ClQDLF2aD6I2"
      },
      "execution_count": null,
      "outputs": []
    },
    {
      "cell_type": "code",
      "source": [
        "def LU_decomposition(A):\n",
        "\n",
        "    \"\"\"\n",
        "    Тип входных данных: матрица A\n",
        "\n",
        "    Что делает функция?\n",
        "    LU-декомпозиция - представление исходной матрицы A в виде произведения двух матриц L и U,\n",
        "    где L - нижняя треугольная матрица, а U - верхняя треугольная матрица\n",
        "    LU-разложение используется для решения систем линейных уравнений, обращения матриц и вычисления определителя.\n",
        "\n",
        "    Возвращаемые значения: матрицы L и U\n",
        "\n",
        "    \"\"\"\n",
        "    if is_square_matrix(A):\n",
        "        n = len(A[0])\n",
        "        L = np.zeros([n, n])\n",
        "        U = np.zeros([n, n])\n",
        "        for i in range(n):\n",
        "            L[i][i] = 1\n",
        "            if i == 0:\n",
        "                U[0][0] = A[0][0]\n",
        "                for j in range(1, n):\n",
        "                    U[0][j] = A[0][j]\n",
        "                    L[j][0] = A[j][0] / U[0][0]\n",
        "            else:\n",
        "                for j in range(i, n):  # считаем матрицу U\n",
        "                    c = 0\n",
        "                    for k in range(0, i):\n",
        "                        c = c + L[i][k] * U[k][j]\n",
        "                    U[i][j] = A[i][j] - c\n",
        "                for j in range(i + 1, n):  # считаем матрицу L\n",
        "                    c = 0\n",
        "                    for k in range(0, i):\n",
        "                        c = c + L[j][k] * U[k][i]\n",
        "                    if U[i][i] != 0:\n",
        "                        L[j][i] = (A[j][i] - c) / U[i][i]\n",
        "                    else:\n",
        "                        L[j][i] = 0\n",
        "        return L, U\n",
        "    print(\"Данная матрица не является квадратной! Метод LU декомпозиции применить тут нельзя!\")\n",
        "    sys.exit()\n"
      ],
      "metadata": {
        "id": "-FD5jczh1Qup"
      },
      "execution_count": null,
      "outputs": []
    },
    {
      "cell_type": "code",
      "source": [
        "\n",
        "def calculate_determinant(matrix):\n",
        "    \"\"\"\n",
        "    Входные данные: исходная матрица matrix\n",
        "\n",
        "    Что делает функция?\n",
        "    Функция находит определитель матрица путём перемножения\n",
        "    диагональных элеметов матрицы U (рез-та LU-декомпозиции)\n",
        "    Данная реализация предпочтительнее \"классического\" нахождения\n",
        "    определителя через миноры, тк алгоритм при использовании\n",
        "    последних имеет сложность O(n)=n!. Вместо этого используется\n",
        "    часть результата LU-декомпозиции, сложность которой O(n)=n^3\n",
        "\n",
        "    Возвращаемое значение: определитель матрицы\n",
        "    \"\"\"\n",
        "    L,U = LU_decomposition(matrix)\n",
        "    O = 1\n",
        "    for i in range(len(U[0])):\n",
        "        O *= U[i][i]\n",
        "    return O\n"
      ],
      "metadata": {
        "id": "25u8Ex9Q1Vim"
      },
      "execution_count": null,
      "outputs": []
    },
    {
      "cell_type": "code",
      "source": [
        "def transpose_matrix(matrix):\n",
        "    \"\"\"\n",
        "    Функция для получения транспонированной матрицы. На вход поступает матрица (можно обычную, можно матрица Nympy)\n",
        "    Транспонированная матрица - исходная матрица, в которой строки и столбцы поменяны местами\n",
        "    Тип возвращаемых данных - матрица.\n",
        "    \"\"\"\n",
        "    return [[matrix[j][i] for j in range(len(matrix))] for i in range(len(matrix[0]))]\n"
      ],
      "metadata": {
        "id": "D66CKz5yD92E"
      },
      "execution_count": null,
      "outputs": []
    },
    {
      "cell_type": "code",
      "source": [
        "def input_matrix():\n",
        "    print(\"Введите количество строк матрицы\")\n",
        "    rows = int(input())\n",
        "    print(\"Введите количество столбцов матрицы\")\n",
        "    cols = int(input())\n",
        "    if rows>1 and cols>1:\n",
        "        A = [0] * rows\n",
        "        for i in range(rows):\n",
        "            print(\"введите строку матрицы №\", i+1)\n",
        "            str1 = input()\n",
        "            str2 = str1.split()\n",
        "            A[i] = [0] * cols\n",
        "            for j in range(cols):\n",
        "                A[i][j] = int(str2[j])\n",
        "        return A\n",
        "    print(\"Неправильная размерность матрицы!\")\n",
        "    sys.exit()"
      ],
      "metadata": {
        "id": "KhHiBx-zEBLj"
      },
      "execution_count": null,
      "outputs": []
    },
    {
      "cell_type": "code",
      "source": [
        "def is_square_matrix(matrix):\n",
        "  if len(matrix)==len(matrix[0]):\n",
        "    return True\n",
        "  return False"
      ],
      "metadata": {
        "id": "-mEyqYAZYvxz"
      },
      "execution_count": null,
      "outputs": []
    },
    {
      "cell_type": "code",
      "source": [
        "def print_matrix(matrix):\n",
        "    print(np.matrix(matrix))"
      ],
      "metadata": {
        "id": "tYUHKsEmEE1Q"
      },
      "execution_count": null,
      "outputs": []
    },
    {
      "cell_type": "code",
      "source": [
        "def consist_matrix_check(matrix_A, matrix_B):\n",
        "    \"\"\"\n",
        "    Входные данные: две матрицы любых разрядностей\n",
        "\n",
        "    Что реализует функция:\n",
        "    Проверка возможности перемножения матриц.\n",
        "    Операция умножения двух матриц выполнима только в том случае,\n",
        "    если число столбцов в первом сомножителе равно числу строк во втором;\n",
        "    в этом случае говорят, что матрицы согласованы\n",
        "\n",
        "    тип возвращаемого значения - True/False\n",
        "    \"\"\"\n",
        "    if len(matrix_A[0]) == len(matrix_B):\n",
        "        return True\n",
        "    return False"
      ],
      "metadata": {
        "id": "JL_fWiSIEITa"
      },
      "execution_count": null,
      "outputs": []
    },
    {
      "cell_type": "code",
      "source": [
        "\n",
        "def multiply_matrix(matrix_A, matrix_B):\n",
        "    \"\"\"\n",
        "    Тип входных данных: две матрицы\n",
        "\n",
        "    Что делает функция?\n",
        "    функция перемножает две матрицы \"строка на столбец\".\n",
        "    \"\"\"\n",
        "    if consist_matrix_check(matrix_A, matrix_B):\n",
        "       return [[sum(a*b for a,b in zip(X_row,Y_col)) for Y_col in zip(*matrix_B)] for X_row in matrix_A]"
      ],
      "metadata": {
        "id": "n7TAy2xfEL-W"
      },
      "execution_count": null,
      "outputs": []
    },
    {
      "cell_type": "code",
      "source": [
        "\n",
        "def worker():\n",
        "    \"\"\"\n",
        "    функция-главное меню.\n",
        "    \n",
        "    \"\"\"\n",
        "\n",
        "    print(\"Что будем находить?\")\n",
        "    print(\"1) обратную матрицу\")\n",
        "    print(\"2) транспонированную матрицу\")\n",
        "    print(\"3) определитель матрицы\")\n",
        "    print(\"4) перемножить две матрицы\")\n",
        "    answer = int(input())\n",
        "    if answer == 1:\n",
        "        A = np.array(input_matrix(), dtype='double')\n",
        "        if int(abs(calculate_determinant(A)))!=0:\n",
        "            print('\\n')\n",
        "            print(\"Обратная матрица\",'\\n')\n",
        "            print_matrix(inverse_matrix(np.copy(A)))\n",
        "        else:\n",
        "            print(\"Определитель равен 0. Утилита не может определить обратную матрицу.\")\n",
        "    elif answer == 2:\n",
        "        A = np.array(input_matrix(), dtype='double')\n",
        "        print('\\n' * 2)\n",
        "        print(\"Транспонированная матрица\", '\\n' )\n",
        "        print_matrix(transpose_matrix(A))\n",
        "    elif answer == 3:\n",
        "        A = np.array(input_matrix(), dtype='double')\n",
        "        print('\\n' )\n",
        "        print(\"Определитель матрицы:\", '\\n')\n",
        "        print(calculate_determinant(A))\n",
        "    elif answer == 4:\n",
        "        A = np.array(input_matrix(), dtype='double')\n",
        "        print('\\n')\n",
        "        print(\"Теперь перейдём ко второй матрице\")\n",
        "        print('\\n')\n",
        "        B = np.array(input_matrix(), dtype='double')\n",
        "        print('\\n'*2)\n",
        "        print(\"Результат перемножения матриц: \", '\\n')\n",
        "        print_matrix(multiply_matrix(A, B))\n",
        "    else:\n",
        "        print(\"Неизвестный аргумент!\")\n",
        "        sys.exit()\n"
      ],
      "metadata": {
        "id": "53NoiDmy7Nse"
      },
      "execution_count": null,
      "outputs": []
    },
    {
      "cell_type": "code",
      "source": [
        "def main():\n",
        "   worker()\n",
        "\n"
      ],
      "metadata": {
        "id": "fxgEbY9vEPER"
      },
      "execution_count": null,
      "outputs": []
    },
    {
      "cell_type": "code",
      "source": [
        "if __name__=='__main__':\n",
        "    main()"
      ],
      "metadata": {
        "colab": {
          "base_uri": "https://localhost:8080/"
        },
        "id": "4WDu0Jy9ER8d",
        "outputId": "a320295f-ff88-4ae6-a8bd-3724e6daf51e"
      },
      "execution_count": null,
      "outputs": [
        {
          "output_type": "stream",
          "name": "stdout",
          "text": [
            "Что будем находить?\n",
            "1) обратную матрицу\n",
            "2) транспонированную матрицу\n",
            "3) определитель матрицы\n",
            "4) перемножить две матрицы\n",
            "3\n",
            "Введите количество строк матрицы\n",
            "3\n",
            "Введите количество столбцов матрицы\n"
          ]
        }
      ]
    }
  ]
}
